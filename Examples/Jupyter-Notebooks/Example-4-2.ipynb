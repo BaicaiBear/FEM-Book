{
 "cells": [
  {
   "cell_type": "markdown",
   "id": "42b6fd29",
   "metadata": {},
   "source": [
    "**例4-2** 考虑一具有中心圆孔方板的各向同性稳态热传导问题，如图所示。假设圆孔半径为$a$，板宽度为$2b$，左右边界和圆孔边界均为温度边界$\\Gamma_{T}$，上下边界为热流边界$\\Gamma_{q}$，并取导热系数$k=1$。试构造此问题的人工解$T(x,y)$。\n",
    "![具有中心圆孔的方板热传导问题](.\\images\\Example-4-2.png)"
   ]
  },
  {
   "cell_type": "markdown",
   "id": "4311d803",
   "metadata": {},
   "source": [
    "## 解"
   ]
  },
  {
   "cell_type": "markdown",
   "id": "9777ec33",
   "metadata": {},
   "source": [
    "二维各向同性热传导方程为\n",
    "$$k \\nabla^{2}T + s\t= 0,\\quad \\boldsymbol{x}\\in\\Omega \\tag{a} $$\n",
    "$$ T = \\bar{T},\\quad\\boldsymbol{x}\\in\\Gamma_{T} \\tag{b} $$\n",
    "$$ \\boldsymbol{q}\\cdot\\boldsymbol{n} = \\bar{q},\\quad\\boldsymbol{x}\\in\\Gamma_{q}\\tag{c} $$\n",
    "式中$\\boldsymbol{q}=-k\\nabla T$为热流密度，$\\bar{T}$为给定温度，$\\bar{q}$为给定热流密度，$\\Gamma_{T}$和$\\Gamma_{q}$分别为温度边界和热流边界。根据问题的特点，假设圆孔处的温度为0，温度场的解析解可取为\n",
    "$$ T(x,y)=(r-a)^{2}=a^{2}+x^{2}+y^{2}-2a\\sqrt{x^{2}+y^{2}}\\tag{d} $$"
   ]
  },
  {
   "cell_type": "markdown",
   "id": "5a5d0778",
   "metadata": {},
   "source": [
    "**以下是sympy的推导过程**"
   ]
  },
  {
   "cell_type": "code",
   "execution_count": 1,
   "id": "03c0824b",
   "metadata": {},
   "outputs": [],
   "source": [
    "from IPython.display import display, Latex, Math\n",
    "import sympy\n",
    "sympy.init_printing(use_latex='mathjax')\n",
    "\n",
    "a,b,x,y,r = sympy.symbols('a,b,x,y,r')\n",
    "r = sympy.sqrt(x**2 + y**2)"
   ]
  },
  {
   "cell_type": "code",
   "execution_count": 2,
   "id": "46b49561",
   "metadata": {},
   "outputs": [
    {
     "data": {
      "text/latex": [
       "$\\displaystyle T = a^{2} - 2 a \\sqrt{x^{2} + y^{2}} + x^{2} + y^{2}$"
      ],
      "text/plain": [
       "                _________          \n",
       "     2         ╱  2    2     2    2\n",
       "T = a  - 2⋅a⋅╲╱  x  + y   + x  + y "
      ]
     },
     "metadata": {},
     "output_type": "display_data"
    }
   ],
   "source": [
    "T = (r-a)**2\n",
    "\n",
    "display(sympy.Eq(sympy.S('T'), sympy.expand(T)))"
   ]
  },
  {
   "cell_type": "markdown",
   "id": "fd07d810",
   "metadata": {},
   "source": [
    "将人工解$T(x,y)$代入热量平衡方程(a)、温度边界条件(b)和热流边界条件(c)中，可以分别得到相应的热源\n",
    "$$s(x,y)=-\\nabla^{2}T(x,y)=\\frac{2a}{\\sqrt{x^{2}+y^{2}}}-4$$"
   ]
  },
  {
   "cell_type": "code",
   "execution_count": 3,
   "id": "8d1e0bc4",
   "metadata": {},
   "outputs": [
    {
     "data": {
      "text/latex": [
       "$\\displaystyle s = \\frac{2 a}{\\sqrt{x^{2} + y^{2}}} - 4$"
      ],
      "text/plain": [
       "        2⋅a         \n",
       "s = ──────────── - 4\n",
       "       _________    \n",
       "      ╱  2    2     \n",
       "    ╲╱  x  + y      "
      ]
     },
     "metadata": {},
     "output_type": "display_data"
    }
   ],
   "source": [
    "s = -(sympy.diff(T,x,2) + sympy.diff(T,y,2))\n",
    "display(sympy.Eq(sympy.S('s'), sympy.simplify(s)))"
   ]
  },
  {
   "cell_type": "markdown",
   "id": "e130ef48",
   "metadata": {},
   "source": [
    "给定温度\n",
    "$$T(r=a) = 0, T(x=\\pm b,y) = a^{2}+b^{2}+y^{2}-2a\\sqrt{b^{2}+y^{2}}$$\n",
    "和给定热流密度\n",
    "$$\\bar{q}(x,y=b) = -\\frac{\\partial T}{\\partial y}(x,y=b)=2b\\left(\\frac{a}{\\sqrt{x^{2}+b^{2}}}-1\\right) \\\\\n",
    "\\bar{q}(x,y=-b)\t=-\\frac{\\partial T}{\\partial y}(x,y=b)=2b\\left(1-\\frac{a}{\\sqrt{x^{2}+b^{2}}}\\right) $$"
   ]
  },
  {
   "cell_type": "code",
   "execution_count": 4,
   "id": "62b72a7f",
   "metadata": {},
   "outputs": [
    {
     "data": {
      "text/latex": [
       "$\\bar{q}(x,y=b) = \\frac{2 a b}{\\sqrt{b^{2} + x^{2}}} - 2 b$"
      ],
      "text/plain": [
       "<IPython.core.display.Latex object>"
      ]
     },
     "execution_count": 4,
     "metadata": {},
     "output_type": "execute_result"
    }
   ],
   "source": [
    "qy = -sympy.diff(T,y)\n",
    "qc = sympy.collect(qy, 2*y)\n",
    "qc1 = qc.subs(y,b).simplify()\n",
    "Latex(r\"$\\bar{q}(x,y=b) = \" + sympy.latex(qc1) +\"$\")"
   ]
  },
  {
   "cell_type": "code",
   "execution_count": 5,
   "id": "a858da04",
   "metadata": {},
   "outputs": [
    {
     "data": {
      "text/latex": [
       "$\\bar{q}(x,y=-b) = - \\frac{2 a b}{\\sqrt{b^{2} + x^{2}}} + 2 b$"
      ],
      "text/plain": [
       "<IPython.core.display.Latex object>"
      ]
     },
     "execution_count": 5,
     "metadata": {},
     "output_type": "execute_result"
    }
   ],
   "source": [
    "qc2 = qc.subs(y,-b).simplify()\n",
    "Latex(r\"$\\bar{q}(x,y=-b) = \" + sympy.latex(qc2) +\"$\")"
   ]
  },
  {
   "cell_type": "markdown",
   "id": "43cba18b",
   "metadata": {},
   "source": [
    "因此人工解$T(x,y)$是对应于以上热源、温度边界条件和热流边界条件的二维稳态热传导问题的精确解。"
   ]
  },
  {
   "cell_type": "code",
   "execution_count": null,
   "id": "853b31e6",
   "metadata": {},
   "outputs": [],
   "source": []
  }
 ],
 "metadata": {
  "kernelspec": {
   "display_name": "Python 3 (ipykernel)",
   "language": "python",
   "name": "python3"
  },
  "language_info": {
   "codemirror_mode": {
    "name": "ipython",
    "version": 3
   },
   "file_extension": ".py",
   "mimetype": "text/x-python",
   "name": "python",
   "nbconvert_exporter": "python",
   "pygments_lexer": "ipython3",
   "version": "3.7.6"
  }
 },
 "nbformat": 4,
 "nbformat_minor": 5
}
