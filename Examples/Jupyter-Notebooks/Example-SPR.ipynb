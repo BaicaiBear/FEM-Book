{
 "cells": [
  {
   "cell_type": "markdown",
   "id": "e061d1e9",
   "metadata": {},
   "source": [
    "**例4-X** 考虑下图所示的长为$2\\mathrm{m}$、 横截面积为$A=1\\mathrm{m}^2$、 弹性模量为$E=10^4\\mathrm{N}\\mathrm{m}^{-2}$的一维均质杆，杆上作用有分布力$b(x)=x$， 左端固定， 右端作用有面力$\\bar{t}=-1\\mathrm{N}\\mathrm{m}^{-2}$。应力精确解为$\\sigma(x) = -\\frac{x^{2}}{2}+1$。\n",
    "![一维等截面弹性杆](.\\images\\Example-SPR.png)\n",
    "利用bar1D-python程序采用4个均匀单元计算，可以得到各单元中点（超收敛点）的有限元应力为\n",
    "$$\n",
    "\\hat{\\boldsymbol{\\sigma}} = [ 0.958333, 0.708333, 0.208333, -0.541667]^{\\mathrm{T}}\n",
    "$$\n",
    "超收敛点的坐标为\n",
    "$$\n",
    "\\boldsymbol{x} = [ 0.25, 0.75, 1.25, 1.75]^{\\mathrm{T}}\n",
    "$$\n",
    "试分别用最小二乘法和超收敛分片重构法重构应力场。"
   ]
  },
  {
   "cell_type": "markdown",
   "id": "7f7f989f",
   "metadata": {},
   "source": [
    "解：\n",
    "\n",
    "单元形函数为\n",
    "$$\n",
    "N_1^{(1)}(x) = 1-2x, N_2^{(1)}(x) = 2x;  \\\\\n",
    "N_1^{(2)}(x) = 2(1-x), N_2^{(2)}(x) = 2x-1;  \\\\\n",
    "N_1^{(3)}(x) = 3-2x, N_2^{(3)}(x) = 2(x-1);  \\\\\n",
    "N_1^{(4)}(x) = 2(2-x), N_2^{(2)}(x) = 2x-3;\n",
    "$$"
   ]
  },
  {
   "cell_type": "code",
   "execution_count": 1,
   "id": "8d19d677",
   "metadata": {},
   "outputs": [],
   "source": [
    "from IPython.display import display, Latex, Math\n",
    "import sympy\n",
    "sympy.init_printing(use_latex='mathjax')\n",
    "\n",
    "x,s1,s2,s3,s4,s5 = sympy.symbols('x,\\sigma_1,\\sigma_2,\\sigma_3,\\sigma_4,\\sigma_5')\n",
    "N11,N21,N12,N22,N13,N23,N14,N24 = sympy.symbols('N_1^(1),N_2^(1),N_1^(2),N_2^(2),N_1^(3),N_2^(3),N_1^(4),N_2^(4)')\n",
    "sr1,sr2,sr3,sr4 = sympy.symbols('\\sigma^{*(1)}, \\sigma^{*(2)}, \\sigma^{*(3)}, \\sigma^{*(4)}')\n",
    "se1,se2,se3,se4 = sympy.symbols('\\sigma^{(1)}, \\sigma^{(2)}, \\sigma^{(3)}, \\sigma^{(4)}')\n",
    "\n",
    "# 单元超收敛点处的应力\n",
    "se1 = 0.958333 \n",
    "se2 = 0.708333\n",
    "se3 = 0.208333\n",
    "se4 =-0.541667\n",
    "\n",
    "# Nie: 单元e节点i的形函数\n",
    "N11 = 1-2*x \n",
    "N21 = 2*x\n",
    "N12 = 2*(1-x) \n",
    "N22 = 2*x-1\n",
    "N13 = 3-2*x \n",
    "N23 = 2*(x-1)\n",
    "N14 = 2*(2-x) \n",
    "N24 = 2*x-3"
   ]
  },
  {
   "cell_type": "markdown",
   "id": "546c8ba7",
   "metadata": {},
   "source": [
    "**1. 最小二乘法**\n",
    "\n",
    "重构应力场为\n",
    "$$\n",
    "\\sigma^* = \\begin{cases}\n",
    "N_1^{(1)}(x) \\tilde{\\sigma}_1 + N_2^{(1)}(x) \\tilde{\\sigma}_2 & 0 \\le x < 0.5 \\\\\n",
    "N_1^{(2)}(x) \\tilde{\\sigma}_2 + N_2^{(2)}(x) \\tilde{\\sigma}_3 & 0.5 \\le x < 1 \\\\\n",
    "N_1^{(3)}(x) \\tilde{\\sigma}_3 + N_2^{(3)}(x) \\tilde{\\sigma}_4 & 1 \\le x < 1.5 \\\\\n",
    "N_1^{(4)}(x) \\tilde{\\sigma}_4 + N_2^{(4)}(x) \\tilde{\\sigma}_5 & 1.5 \\le x \\le 2\n",
    "\\end{cases}\n",
    "$$\n",
    "式中$\\tilde{\\sigma}_I$为待重构的节点应力。\n",
    "\n",
    "将权系数矩阵$\\boldsymbol{C}$取为单位阵，系数矩阵和右端项为\n",
    "$$\n",
    "   \\boldsymbol{A} = \\sum_{e=1}^{4} \\int_{\\Omega^e} \\boldsymbol{N}^{*\\mathrm{T}} \\boldsymbol{N} \\mathrm{d}\\Omega\n",
    "$$\n",
    "$$\n",
    "   \\boldsymbol{b} = \\sum_{e=1}^{4} \\int_{\\Omega^e} \\boldsymbol{N}^{*\\mathrm{T}} \\sigma^e \\mathrm{d}\\Omega\n",
    "$$"
   ]
  },
  {
   "cell_type": "code",
   "execution_count": 2,
   "id": "ca7032b6",
   "metadata": {
    "scrolled": false
   },
   "outputs": [
    {
     "data": {
      "text/plain": [
       "'A1 = '"
      ]
     },
     "metadata": {},
     "output_type": "display_data"
    },
    {
     "data": {
      "text/latex": [
       "$\\displaystyle \\left[\\begin{matrix}\\frac{1}{6} & \\frac{1}{12}\\\\\\frac{1}{12} & \\frac{1}{6}\\end{matrix}\\right]$"
      ],
      "text/plain": [
       "⎡1/6   1/12⎤\n",
       "⎢          ⎥\n",
       "⎣1/12  1/6 ⎦"
      ]
     },
     "metadata": {},
     "output_type": "display_data"
    },
    {
     "data": {
      "text/plain": [
       "'b1 = '"
      ]
     },
     "metadata": {},
     "output_type": "display_data"
    },
    {
     "data": {
      "text/latex": [
       "$\\displaystyle \\left[\\begin{matrix}0.23958325\\\\0.23958325\\end{matrix}\\right]$"
      ],
      "text/plain": [
       "⎡0.23958325⎤\n",
       "⎢          ⎥\n",
       "⎣0.23958325⎦"
      ]
     },
     "metadata": {},
     "output_type": "display_data"
    },
    {
     "data": {
      "text/plain": [
       "'A2 = '"
      ]
     },
     "metadata": {},
     "output_type": "display_data"
    },
    {
     "data": {
      "text/latex": [
       "$\\displaystyle \\left[\\begin{matrix}\\frac{1}{6} & \\frac{1}{12}\\\\\\frac{1}{12} & \\frac{1}{6}\\end{matrix}\\right]$"
      ],
      "text/plain": [
       "⎡1/6   1/12⎤\n",
       "⎢          ⎥\n",
       "⎣1/12  1/6 ⎦"
      ]
     },
     "metadata": {},
     "output_type": "display_data"
    },
    {
     "data": {
      "text/plain": [
       "'b2 = '"
      ]
     },
     "metadata": {},
     "output_type": "display_data"
    },
    {
     "data": {
      "text/latex": [
       "$\\displaystyle \\left[\\begin{matrix}0.17708325\\\\0.17708325\\end{matrix}\\right]$"
      ],
      "text/plain": [
       "⎡0.17708325⎤\n",
       "⎢          ⎥\n",
       "⎣0.17708325⎦"
      ]
     },
     "metadata": {},
     "output_type": "display_data"
    },
    {
     "data": {
      "text/plain": [
       "'A3 = '"
      ]
     },
     "metadata": {},
     "output_type": "display_data"
    },
    {
     "data": {
      "text/latex": [
       "$\\displaystyle \\left[\\begin{matrix}\\frac{1}{6} & \\frac{1}{12}\\\\\\frac{1}{12} & \\frac{1}{6}\\end{matrix}\\right]$"
      ],
      "text/plain": [
       "⎡1/6   1/12⎤\n",
       "⎢          ⎥\n",
       "⎣1/12  1/6 ⎦"
      ]
     },
     "metadata": {},
     "output_type": "display_data"
    },
    {
     "data": {
      "text/plain": [
       "'b3 = '"
      ]
     },
     "metadata": {},
     "output_type": "display_data"
    },
    {
     "data": {
      "text/latex": [
       "$\\displaystyle \\left[\\begin{matrix}0.05208325\\\\0.05208325\\end{matrix}\\right]$"
      ],
      "text/plain": [
       "⎡0.05208325⎤\n",
       "⎢          ⎥\n",
       "⎣0.05208325⎦"
      ]
     },
     "metadata": {},
     "output_type": "display_data"
    },
    {
     "data": {
      "text/plain": [
       "'A4 = '"
      ]
     },
     "metadata": {},
     "output_type": "display_data"
    },
    {
     "data": {
      "text/latex": [
       "$\\displaystyle \\left[\\begin{matrix}\\frac{1}{6} & \\frac{1}{12}\\\\\\frac{1}{12} & \\frac{1}{6}\\end{matrix}\\right]$"
      ],
      "text/plain": [
       "⎡1/6   1/12⎤\n",
       "⎢          ⎥\n",
       "⎣1/12  1/6 ⎦"
      ]
     },
     "metadata": {},
     "output_type": "display_data"
    },
    {
     "data": {
      "text/plain": [
       "'b4 = '"
      ]
     },
     "metadata": {},
     "output_type": "display_data"
    },
    {
     "data": {
      "text/latex": [
       "$\\displaystyle \\left[\\begin{matrix}-0.13541675\\\\-0.13541675\\end{matrix}\\right]$"
      ],
      "text/plain": [
       "⎡-0.13541675⎤\n",
       "⎢           ⎥\n",
       "⎣-0.13541675⎦"
      ]
     },
     "metadata": {},
     "output_type": "display_data"
    }
   ],
   "source": [
    "# 对于单元1\n",
    "Ne = sympy.Matrix([[N11, N21]])\n",
    "A1 = sympy.integrate(Ne.T @ Ne, (x,0,sympy.nsimplify(0.5, tolerance=0.00001, rational=True)))\n",
    "display('A1 = ', A1)\n",
    "\n",
    "b1 = sympy.integrate(Ne.T * se1, (x,0,sympy.nsimplify(0.5, tolerance=0.00001, rational=True)))\n",
    "display('b1 = ', b1)\n",
    "\n",
    "# 对于单元2\n",
    "Ne = sympy.Matrix([[N12, N22]])\n",
    "A2 = sympy.integrate(Ne.T @ Ne, (x,sympy.nsimplify(0.5, tolerance=0.00001, rational=True),1))\n",
    "display('A2 = ', A2)\n",
    "\n",
    "b2 = sympy.integrate(Ne.T * se2, (x,sympy.nsimplify(0.5, tolerance=0.00001, rational=True),1))\n",
    "display('b2 = ', b2)\n",
    "\n",
    "# 对于单元3\n",
    "Ne = sympy.Matrix([[N13, N23]])\n",
    "A3 = sympy.integrate(Ne.T @ Ne, (x,1, sympy.nsimplify(1.5, tolerance=0.00001, rational=True)))\n",
    "display('A3 = ', A3)\n",
    "\n",
    "b3 = sympy.integrate(Ne.T * se3, (x,1,sympy.nsimplify(1.5, tolerance=0.00001, rational=True)))\n",
    "display('b3 = ', b3)\n",
    "\n",
    "# 对于单元4\n",
    "Ne = sympy.Matrix([[N14, N24]])\n",
    "A4 = sympy.integrate(Ne.T @ Ne, (x, sympy.nsimplify(1.5, tolerance=0.00001, rational=True), 2))\n",
    "display('A4 = ', A4)\n",
    "\n",
    "b4 = sympy.integrate(Ne.T * se4, (x,sympy.nsimplify(1.5, tolerance=0.00001, rational=True), 2))\n",
    "display('b4 = ', b4)\n"
   ]
  },
  {
   "cell_type": "markdown",
   "id": "059e118f",
   "metadata": {},
   "source": [
    "得方程组\n",
    "\\begin{align}\n",
    "   \\left[\\begin{array}{ccccc}\n",
    "\\frac{1}{6} & \\frac{1}{12} & 0 & 0 & 0 \\\\\n",
    "\\frac{1}{12} & \\frac{1}{3} & \\frac{1}{12} & 0 & 0 \\\\\n",
    "0 & \\frac{1}{12} & \\frac{1}{3} & \\frac{1}{12} & 0 \\\\\n",
    "0 & 0 & \\frac{1}{12} & \\frac{1}{3} & \\frac{1}{12} \\\\\n",
    "0 & 0 & 0& \\frac{1}{12} & \\frac{1}{6}\\\\\n",
    "\\end{array}\\right]\\left[\\begin{array}{c}\n",
    "\\tilde{\\sigma}_{1} \\\\\n",
    "\\tilde{\\sigma}_{2} \\\\\n",
    "\\tilde{\\sigma}_{3} \\\\\n",
    "\\tilde{\\sigma}_{4} \\\\\n",
    "\\tilde{\\sigma}_{5} \\\\\n",
    "\\end{array}\\right]=\\left[\\begin{array}{c}\n",
    "0.23958325 \\\\\n",
    "0.4166665 \\\\\n",
    "0.2291665 \\\\\n",
    "−0.0833334999999996 \\\\\n",
    "−0.13541675\n",
    "\\end{array}\\right] \n",
    "\\end{align}\n",
    "解得：\n",
    "\\begin{align}\n",
    "\\tilde{\\sigma}_{1} &= 1.00297585714286 \\\\\n",
    "\\tilde{\\sigma}_{2} &= 0.869047285714286 \\\\\n",
    "\\tilde{\\sigma}_{3} &= 0.520833 \\\\\n",
    "\\tilde{\\sigma}_{4} &= −0.202381285714284 \\\\\n",
    "\\tilde{\\sigma}_{5} &= −0.711309857142858\n",
    "\\end{align}"
   ]
  },
  {
   "cell_type": "code",
   "execution_count": 3,
   "id": "a01f4c85",
   "metadata": {},
   "outputs": [
    {
     "data": {
      "text/plain": [
       "'A = '"
      ]
     },
     "metadata": {},
     "output_type": "display_data"
    },
    {
     "data": {
      "text/latex": [
       "$\\displaystyle \\left[\\begin{matrix}\\frac{1}{6} & \\frac{1}{12} & 0 & 0 & 0\\\\\\frac{1}{12} & \\frac{1}{3} & \\frac{1}{12} & 0 & 0\\\\0 & \\frac{1}{12} & \\frac{1}{3} & \\frac{1}{12} & 0\\\\0 & 0 & \\frac{1}{12} & \\frac{1}{3} & \\frac{1}{12}\\\\0 & 0 & 0 & \\frac{1}{12} & \\frac{1}{6}\\end{matrix}\\right]$"
      ],
      "text/plain": [
       "⎡1/6   1/12   0     0     0  ⎤\n",
       "⎢                            ⎥\n",
       "⎢1/12  1/3   1/12   0     0  ⎥\n",
       "⎢                            ⎥\n",
       "⎢ 0    1/12  1/3   1/12   0  ⎥\n",
       "⎢                            ⎥\n",
       "⎢ 0     0    1/12  1/3   1/12⎥\n",
       "⎢                            ⎥\n",
       "⎣ 0     0     0    1/12  1/6 ⎦"
      ]
     },
     "metadata": {},
     "output_type": "display_data"
    },
    {
     "data": {
      "text/plain": [
       "'b = '"
      ]
     },
     "metadata": {},
     "output_type": "display_data"
    },
    {
     "data": {
      "text/latex": [
       "$\\displaystyle \\left[\\begin{matrix}0.23958325\\\\0.4166665\\\\0.2291665\\\\-0.0833334999999996\\\\-0.13541675\\end{matrix}\\right]$"
      ],
      "text/plain": [
       "⎡    0.23958325     ⎤\n",
       "⎢                   ⎥\n",
       "⎢     0.4166665     ⎥\n",
       "⎢                   ⎥\n",
       "⎢     0.2291665     ⎥\n",
       "⎢                   ⎥\n",
       "⎢-0.0833334999999996⎥\n",
       "⎢                   ⎥\n",
       "⎣    -0.13541675    ⎦"
      ]
     },
     "metadata": {},
     "output_type": "display_data"
    },
    {
     "data": {
      "text/plain": [
       "'s = '"
      ]
     },
     "metadata": {},
     "output_type": "display_data"
    },
    {
     "data": {
      "text/latex": [
       "$\\displaystyle \\left[\\begin{matrix}1.00297585714286\\\\0.869047285714286\\\\0.520833\\\\-0.202381285714285\\\\-0.711309857142857\\end{matrix}\\right]$"
      ],
      "text/plain": [
       "⎡ 1.00297585714286 ⎤\n",
       "⎢                  ⎥\n",
       "⎢0.869047285714286 ⎥\n",
       "⎢                  ⎥\n",
       "⎢     0.520833     ⎥\n",
       "⎢                  ⎥\n",
       "⎢-0.202381285714285⎥\n",
       "⎢                  ⎥\n",
       "⎣-0.711309857142857⎦"
      ]
     },
     "metadata": {},
     "output_type": "display_data"
    }
   ],
   "source": [
    "LM = sympy.Matrix([[0,1,2,3],[1,2,3,4]])\n",
    "A = sympy.zeros(5,5)\n",
    "b = sympy.zeros(5,1)\n",
    "\n",
    "def assembly(e, ke, fe):\n",
    "    for loop1 in range(2):\n",
    "        i = LM[loop1, e]\n",
    "        b[i] += fe[loop1]\n",
    "        for loop2 in range(2):\n",
    "            j = LM[loop2, e]\n",
    "            A[i, j] += ke[loop1, loop2]\n",
    "\n",
    "assembly(0,A1,b1)\n",
    "assembly(1,A2,b2)\n",
    "assembly(2,A3,b3)\n",
    "assembly(3,A4,b4)\n",
    "\n",
    "display('A = ', A)\n",
    "display('b = ', b)\n",
    "\n",
    "s = A.inv() @ b\n",
    "display('s = ', s)"
   ]
  },
  {
   "cell_type": "markdown",
   "id": "6463053d",
   "metadata": {},
   "source": [
    "**解法2：超收敛分片重构**\n",
    "\n",
    "线性单元的一阶高斯求积积分点为应力超收敛点，超收敛阶次为1阶，因此在每个分片中均采用线性重构应力场$\\sigma^*(x) = a_1 + a_2 x$。\n",
    "本问题有3个内部节点，分别以节点2、3、和4为中心，取其相邻的两个单元构成分片。边界节点1和5的应力分别由节点2和节点5的分片确定。\n",
    "\n",
    "分片1（节点2的分片）：包含单元1和2。令重构应力$\\sigma^*$在分片内的两个超收敛点($x_1=0.25$，$x_2=0.75$)处的应力值与有限元应力值之差的平方和\n",
    "$$\n",
    "   [\\hat{\\sigma}_1 - \\sigma^*(x_1)]^2 + [\\hat{\\sigma}_2 - \\sigma^*(x_2)]^2\n",
    "$$\n",
    "取最小，得方程组\n",
    "$$\n",
    "\\left[ \\begin{array}{cc}\n",
    " 2 & 1 \\\\\n",
    " 1 & \\frac{5}{8}\n",
    "\\end{array}\n",
    "\\right] \\left[\\begin{array}{c}\n",
    "  a_{1} \\\\\n",
    "  a_{2}\n",
    "\\end{array}\\right]=\\left[\\begin{array}{c}\n",
    " 1.666666  \\\\\n",
    " 0.770833\n",
    "\\end{array} \\right] \n",
    "$$\n",
    "可解得待定系数$a_1=1.083333$，$a_2=−0.5$，因此重构应力场为\n",
    "$$\n",
    "\\sigma^*(x) = 1.083333 − 0.5 x\n",
    "$$\n",
    "由此可得节点1和节点2的重构应力为$\\tilde{\\sigma}_1 = 1.083333$，$\\tilde{\\sigma}_2 = 0.833333$。"
   ]
  },
  {
   "cell_type": "code",
   "execution_count": 5,
   "id": "f2a0470d",
   "metadata": {},
   "outputs": [
    {
     "name": "stdout",
     "output_type": "stream",
     "text": [
      "A =  Matrix([[2, 1], [1, 5/8]])\n",
      "b =  Matrix([[1.66666600000000], [0.770833000000000]])\n",
      "a =  Matrix([[1.08333300000000], [-0.500000000000000]])\n"
     ]
    }
   ],
   "source": [
    "x1,x2,x3,x4 = sympy.symbols('x_1,x_2,x_3,x_4')\n",
    "x1 = sympy.nsimplify(0.25, tolerance=0.00001, rational=True)\n",
    "x2 = sympy.nsimplify(0.75, tolerance=0.00001, rational=True)\n",
    "x3 = sympy.nsimplify(1.25, tolerance=0.00001, rational=True)\n",
    "x4 = sympy.nsimplify(1.75, tolerance=0.00001, rational=True)\n",
    "\n",
    "a1,a2 = sympy.symbols('a_1,a_2')\n",
    "\n",
    "p = sympy.Matrix([[1, x]])\n",
    "Ak = p.T @ p\n",
    "\n",
    "A = Ak.subs(x,x1) + Ak.subs(x,x2)\n",
    "print('A = ', A)\n",
    "\n",
    "b = p.subs(x,x1).T*se1 + p.subs(x,x2).T*se2\n",
    "print('b = ', b)\n",
    "\n",
    "a = A.inv() @ b\n",
    "print('a = ', a)\n"
   ]
  },
  {
   "cell_type": "markdown",
   "id": "7a702a06",
   "metadata": {},
   "source": [
    "分片2（节点3的分片）：包含单元2和3。令重构应力$\\sigma^*$在分片内的两个超收敛点($x_2=0.75$，$x_3=1.25$)处的应力值与有限元应力值之差的平方和\n",
    "$$\n",
    "   [\\hat{\\sigma}_2 - \\sigma^*(x_2)]^2 + [\\hat{\\sigma}_3 - \\sigma^*(x_3)]^2\n",
    "$$\n",
    "取最小，得方程组\n",
    "$$\n",
    "\\left[ \\begin{array}{cc}\n",
    " 2 & 2 \\\\\n",
    " 2 & \\frac{17}{8}\n",
    "\\end{array}\n",
    "\\right] \\left[\\begin{array}{c}\n",
    "  a_{1} \\\\\n",
    "  a_{2}\n",
    "\\end{array}\\right]=\\left[\\begin{array}{c}\n",
    " 0.916666 \\\\\n",
    " 0.791666\n",
    "\\end{array} \\right] \n",
    "$$\n",
    "可解得待定系数$a_1 = 1.458333$，$a_2 = -1.0$，因此重构应力场为\n",
    "$$\n",
    "\\sigma^*(x) = 1.458333 -  x\n",
    "$$\n",
    "由此可得节点3的重构应力为$\\tilde{\\sigma}_3 = 0.458333$。"
   ]
  },
  {
   "cell_type": "code",
   "execution_count": 7,
   "id": "fb47561c",
   "metadata": {},
   "outputs": [
    {
     "name": "stdout",
     "output_type": "stream",
     "text": [
      "A =  Matrix([[2, 2], [2, 17/8]])\n",
      "b =  Matrix([[0.916666000000000], [0.791666000000000]])\n",
      "a =  Matrix([[1.45833300000000], [-1.00000000000000]])\n"
     ]
    }
   ],
   "source": [
    "A = Ak.subs(x,x2) + Ak.subs(x,x3)\n",
    "print('A = ', A)\n",
    "\n",
    "b = p.subs(x,x2).T*se2 + p.subs(x,x3).T*se3\n",
    "print('b = ', b)\n",
    "\n",
    "a = A.inv() @ b\n",
    "print('a = ', a)\n"
   ]
  },
  {
   "cell_type": "markdown",
   "id": "8a24c630",
   "metadata": {},
   "source": [
    "分片3（节点4的分片）：包含单元3和4。令重构应力$\\sigma^*$在分片内的两个超收敛点($x_3=1.25$，$x_4=1.75$)处的应力值与有限元应力值之差的平方和\n",
    "$$\n",
    "   [\\hat{\\sigma}_3 - \\sigma^*(x_3)]^2 + [\\hat{\\sigma}_4 - \\sigma^*(x_4)]^2\n",
    "$$\n",
    "取最小，得方程组\n",
    "$$\n",
    "\\left[ \\begin{array}{cc}\n",
    " 2 & 3 \\\\\n",
    " 3 & \\frac{37}{8}\n",
    "\\end{array}\n",
    "\\right] \\left[\\begin{array}{c}\n",
    "  a_{1} \\\\\n",
    "  a_{2}\n",
    "\\end{array}\\right]=\\left[\\begin{array}{c}\n",
    " -0.333334 \\\\\n",
    " -0.687501\n",
    "\\end{array} \\right] \n",
    "$$\n",
    "可解得待定系数$a_1=2.083333$，$a_2=-1.5$，因此重构应力场为\n",
    "$$\n",
    "\\sigma^*(x) = 2.083333 - 1.5  x\n",
    "$$\n",
    "由此可得节点4和节点5的重构应力为$\\tilde{\\sigma}_4 = −0.166667$，$\\tilde{\\sigma}_5 = −0.916667。"
   ]
  },
  {
   "cell_type": "code",
   "execution_count": 8,
   "id": "0176ea43",
   "metadata": {},
   "outputs": [
    {
     "name": "stdout",
     "output_type": "stream",
     "text": [
      "A =  Matrix([[2, 3], [3, 37/8]])\n",
      "b =  Matrix([[-0.333334000000000], [-0.687501000000000]])\n",
      "a =  Matrix([[2.08333300000000], [-1.50000000000000]])\n"
     ]
    }
   ],
   "source": [
    "A = Ak.subs(x,x3) + Ak.subs(x,x4)\n",
    "print('A = ', A)\n",
    "\n",
    "b = p.subs(x,x3).T*se3 + p.subs(x,x4).T*se4\n",
    "print('b = ', b)\n",
    "\n",
    "a = A.inv() @ b\n",
    "print('a = ', a)\n"
   ]
  },
  {
   "cell_type": "code",
   "execution_count": 16,
   "id": "e704ca6c",
   "metadata": {},
   "outputs": [
    {
     "data": {
      "image/png": "[encoded data removed]",
      "text/plain": [
       "<Figure size 432x288 with 1 Axes>"
      ]
     },
     "metadata": {
      "needs_background": "light"
     },
     "output_type": "display_data"
    },
    {
     "data": {
      "text/plain": [
       "<sympy.plotting.plot.Plot at 0x1b39a9b8220>"
      ]
     },
     "execution_count": 16,
     "metadata": {},
     "output_type": "execute_result"
    }
   ],
   "source": [
    "# 拉格朗日法\n",
    "s1 = 1.00297585714286\n",
    "s2 = 0.869047285714286\n",
    "s3 = 0.520833\n",
    "s4 = -0.202381285714284\n",
    "s5 = -0.711309857142858\n",
    "\n",
    "sr1L = N11*s1 + N21*s2\n",
    "sr2L = N12*s2 + N22*s3\n",
    "sr3L = N13*s3 + N23*s4\n",
    "sr4L = N14*s4 + N24*s5\n",
    "\n",
    "# 超收敛分片重构\n",
    "s1 = 1.083333\n",
    "s2 = 0.833333\n",
    "s3 = 0.458333\n",
    "s4 = -0.166667\n",
    "s5 = -0.916667\n",
    "\n",
    "sr1P = N11*s1 + N21*s2\n",
    "sr2P = N12*s2 + N22*s3\n",
    "sr3P = N13*s3 + N23*s4\n",
    "sr4P = N14*s4 + N24*s5\n",
    "\n",
    "sex = 1  - x**2/2\n",
    "\n",
    "from sympy.plotting import plot\n",
    "plot((sr1L,(x,0,0.5)),(sr2L,(x,0.5,1)),(sr3L,(x,1,1.5)),(sr4L,(x,1.5,2)),\n",
    "     (sr1P,(x,0,0.5)),(sr2P,(x,0.5,1)),(sr3P,(x,1,1.5)),(sr4P,(x,1.5,2)),\n",
    "     (se1,(x,0,0.5)),(se2,(x,0.5,1)),(se3,(x,1,1.5)),(se4,(x,1.5,2)),\n",
    "     (sex, (x,0,2)))\n",
    "\n"
   ]
  },
  {
   "cell_type": "code",
   "execution_count": 24,
   "id": "6f23cb1c",
   "metadata": {},
   "outputs": [
    {
     "name": "stdout",
     "output_type": "stream",
     "text": [
      "L2L =  0.106462788790483\n",
      "L2P =  0.0733620209054494\n"
     ]
    }
   ],
   "source": [
    "L2L = sympy.sqrt(sympy.integrate((sr1L-sex)**2,(x,0,0.5)) + sympy.integrate((sr2L-sex)**2,(x,0.5,1)) +\n",
    "      sympy.integrate((sr3L-sex)**2,(x,1,1.5)) + sympy.integrate((sr4L-sex)**2,(x,1.5,2)))\n",
    "L2P = sympy.sqrt(sympy.integrate((sr1P-sex)**2,(x,0,0.5)) + sympy.integrate((sr2P-sex)**2,(x,0.5,1)) +\n",
    "      sympy.integrate((sr3P-sex)**2,(x,1,1.5)) + sympy.integrate((sr4P-sex)**2,(x,1.5,2)))\n",
    "print('L2L = ', L2L)\n",
    "print('L2P = ', L2P)"
   ]
  }
 ],
 "metadata": {
  "kernelspec": {
   "display_name": "Python 3 (ipykernel)",
   "language": "python",
   "name": "python3"
  },
  "language_info": {
   "codemirror_mode": {
    "name": "ipython",
    "version": 3
   },
   "file_extension": ".py",
   "mimetype": "text/x-python",
   "name": "python",
   "nbconvert_exporter": "python",
   "pygments_lexer": "ipython3",
   "version": "3.9.12"
  }
 },
 "nbformat": 4,
 "nbformat_minor": 5
}
