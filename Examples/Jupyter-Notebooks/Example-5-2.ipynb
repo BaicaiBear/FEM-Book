{
 "cells": [
  {
   "cell_type": "code",
   "execution_count": 17,
   "id": "a2905fc3",
   "metadata": {},
   "outputs": [],
   "source": [
    "import numpy as np\n",
    "K = np.matrix([[1,2,2], [2,4,-1], [2,-1,0]])\n",
    "e, v = np.linalg.eig(K)\n",
    "y = v * np.diag(e) * np.linalg.inv(v)"
   ]
  },
  {
   "cell_type": "code",
   "execution_count": 18,
   "id": "7fe2f492",
   "metadata": {},
   "outputs": [
    {
     "name": "stdout",
     "output_type": "stream",
     "text": [
      "[-2.23606798  2.23606798  5.        ]\n",
      "[[ 6.32455532e-01 -6.32455532e-01 -4.47213595e-01]\n",
      " [-3.16227766e-01  3.16227766e-01 -8.94427191e-01]\n",
      " [-7.07106781e-01 -7.07106781e-01 -1.09455434e-16]]\n",
      "[[ 1.00000000e+00  2.00000000e+00  2.00000000e+00]\n",
      " [ 2.00000000e+00  4.00000000e+00 -1.00000000e+00]\n",
      " [ 2.00000000e+00 -1.00000000e+00 -2.22044605e-16]]\n"
     ]
    }
   ],
   "source": [
    "print(e)\n",
    "print(v)\n",
    "print(y)"
   ]
  },
  {
   "cell_type": "code",
   "execution_count": null,
   "id": "49f7a7d4",
   "metadata": {},
   "outputs": [],
   "source": []
  }
 ],
 "metadata": {
  "kernelspec": {
   "display_name": "Python 3 (ipykernel)",
   "language": "python",
   "name": "python3"
  },
  "language_info": {
   "codemirror_mode": {
    "name": "ipython",
    "version": 3
   },
   "file_extension": ".py",
   "mimetype": "text/x-python",
   "name": "python",
   "nbconvert_exporter": "python",
   "pygments_lexer": "ipython3",
   "version": "3.9.12"
  }
 },
 "nbformat": 4,
 "nbformat_minor": 5
}
