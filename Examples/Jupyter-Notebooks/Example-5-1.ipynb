{
 "cells": [
  {
   "cell_type": "code",
   "execution_count": 1,
   "id": "969b7589",
   "metadata": {},
   "outputs": [],
   "source": [
    "import sympy\n",
    "sympy.init_printing(use_latex='mathjax')\n",
    "\n",
    "u1,u2,F1,k,l = sympy.symbols('u_1,u_2,F_1,k,\\lambda')"
   ]
  },
  {
   "cell_type": "code",
   "execution_count": 2,
   "id": "128be9be",
   "metadata": {},
   "outputs": [
    {
     "data": {
      "text/latex": [
       "$\\displaystyle - F_{1} u_{1} + \\frac{k u_{1}^{2}}{2} + \\frac{k \\left(- u_{1} + u_{2}\\right)^{2}}{2}$"
      ],
      "text/plain": [
       "             2               2\n",
       "         k⋅u₁    k⋅(-u₁ + u₂) \n",
       "-F₁⋅u₁ + ───── + ─────────────\n",
       "           2           2      "
      ]
     },
     "execution_count": 2,
     "metadata": {},
     "output_type": "execute_result"
    }
   ],
   "source": [
    "P = k*u1**2/2 + k*(u2-u1)**2/2 - u1*F1\n",
    "P"
   ]
  },
  {
   "cell_type": "code",
   "execution_count": 3,
   "id": "703c3a64",
   "metadata": {},
   "outputs": [
    {
     "data": {
      "text/latex": [
       "$\\displaystyle - F_{1} u_{1} + k u_{1}^{2} - u_{1} + \\frac{1}{2 k}$"
      ],
      "text/plain": [
       "             2         1 \n",
       "-F₁⋅u₁ + k⋅u₁  - u₁ + ───\n",
       "                      2⋅k"
      ]
     },
     "execution_count": 3,
     "metadata": {},
     "output_type": "execute_result"
    }
   ],
   "source": [
    "P1 = P.subs(u2,1/k)\n",
    "P1e = P1.expand()\n",
    "P1e"
   ]
  },
  {
   "cell_type": "code",
   "execution_count": 4,
   "id": "08187a47",
   "metadata": {},
   "outputs": [
    {
     "data": {
      "text/latex": [
       "$\\displaystyle - F_{1} + k u_{1} + \\frac{k \\left(2 u_{1} - \\frac{2}{k}\\right)}{2}$"
      ],
      "text/plain": [
       "               ⎛       2⎞\n",
       "             k⋅⎜2⋅u₁ - ─⎟\n",
       "               ⎝       k⎠\n",
       "-F₁ + k⋅u₁ + ────────────\n",
       "                  2      "
      ]
     },
     "execution_count": 4,
     "metadata": {},
     "output_type": "execute_result"
    }
   ],
   "source": [
    "DP1 = sympy.diff(P1, u1)\n",
    "DP1"
   ]
  },
  {
   "cell_type": "code",
   "execution_count": 5,
   "id": "629048a5",
   "metadata": {},
   "outputs": [
    {
     "data": {
      "text/latex": [
       "$\\displaystyle \\left[ \\frac{F_{1} + 1}{2 k}\\right]$"
      ],
      "text/plain": [
       "⎡F₁ + 1⎤\n",
       "⎢──────⎥\n",
       "⎣ 2⋅k  ⎦"
      ]
     },
     "execution_count": 5,
     "metadata": {},
     "output_type": "execute_result"
    }
   ],
   "source": [
    "u11 = sympy.solve(DP1, u1)\n",
    "u11"
   ]
  },
  {
   "cell_type": "code",
   "execution_count": 6,
   "id": "56076dda",
   "metadata": {},
   "outputs": [
    {
     "data": {
      "text/latex": [
       "$\\displaystyle - \\frac{F_{1}^{2}}{4 k} - \\frac{F_{1}}{2 k} + \\frac{1}{4 k}$"
      ],
      "text/plain": [
       "    2            \n",
       "  F₁     F₁    1 \n",
       "- ─── - ─── + ───\n",
       "  4⋅k   2⋅k   4⋅k"
      ]
     },
     "execution_count": 6,
     "metadata": {},
     "output_type": "execute_result"
    }
   ],
   "source": [
    "P1e.subs(u1, (F1+1)/(2*k)).expand()"
   ]
  },
  {
   "cell_type": "code",
   "execution_count": 7,
   "id": "e9922a3e",
   "metadata": {},
   "outputs": [
    {
     "data": {
      "text/latex": [
       "$\\displaystyle 2 k$"
      ],
      "text/plain": [
       "2⋅k"
      ]
     },
     "execution_count": 7,
     "metadata": {},
     "output_type": "execute_result"
    }
   ],
   "source": [
    "DP2 = sympy.diff(P1,u1,2)\n",
    "DP2"
   ]
  },
  {
   "cell_type": "code",
   "execution_count": 8,
   "id": "060127c0",
   "metadata": {},
   "outputs": [
    {
     "data": {
      "text/latex": [
       "$\\displaystyle - F_{1} u_{1} + \\lambda \\left(u_{2} - \\frac{1}{k}\\right) + \\frac{k u_{1}^{2}}{2} + \\frac{k \\left(- u_{1} + u_{2}\\right)^{2}}{2}$"
      ],
      "text/plain": [
       "                                2               2\n",
       "                 ⎛     1⎞   k⋅u₁    k⋅(-u₁ + u₂) \n",
       "-F₁⋅u₁ + \\lambda⋅⎜u₂ - ─⎟ + ───── + ─────────────\n",
       "                 ⎝     k⎠     2           2      "
      ]
     },
     "execution_count": 8,
     "metadata": {},
     "output_type": "execute_result"
    }
   ],
   "source": [
    "PL = P + l*(u2-1/k)\n",
    "PL"
   ]
  },
  {
   "cell_type": "code",
   "execution_count": 9,
   "id": "bf67d452",
   "metadata": {},
   "outputs": [],
   "source": [
    "DPL1 = sympy.diff(PL, u1)\n",
    "DPL2 = sympy.diff(PL, u2)\n",
    "DPL3 = sympy.diff(PL, l)"
   ]
  },
  {
   "cell_type": "code",
   "execution_count": 10,
   "id": "d4ffd9ac",
   "metadata": {},
   "outputs": [
    {
     "data": {
      "text/latex": [
       "$\\displaystyle - F_{1} + 2 k u_{1} - k u_{2}$"
      ],
      "text/plain": [
       "-F₁ + 2⋅k⋅u₁ - k⋅u₂"
      ]
     },
     "execution_count": 10,
     "metadata": {},
     "output_type": "execute_result"
    }
   ],
   "source": [
    "DPL1.expand()"
   ]
  },
  {
   "cell_type": "code",
   "execution_count": 11,
   "id": "0bc46504",
   "metadata": {},
   "outputs": [
    {
     "data": {
      "text/latex": [
       "$\\displaystyle \\lambda - k u_{1} + k u_{2}$"
      ],
      "text/plain": [
       "\\lambda - k⋅u₁ + k⋅u₂"
      ]
     },
     "execution_count": 11,
     "metadata": {},
     "output_type": "execute_result"
    }
   ],
   "source": [
    "DPL2.expand()"
   ]
  },
  {
   "cell_type": "code",
   "execution_count": 12,
   "id": "d2a06f1e",
   "metadata": {},
   "outputs": [
    {
     "data": {
      "text/latex": [
       "$\\displaystyle u_{2} - \\frac{1}{k}$"
      ],
      "text/plain": [
       "     1\n",
       "u₂ - ─\n",
       "     k"
      ]
     },
     "execution_count": 12,
     "metadata": {},
     "output_type": "execute_result"
    }
   ],
   "source": [
    "DPL3"
   ]
  },
  {
   "cell_type": "code",
   "execution_count": 13,
   "id": "24ae5cd7",
   "metadata": {},
   "outputs": [
    {
     "data": {
      "text/latex": [
       "$\\displaystyle - F_{1} u_{1} + k u_{1}^{2} - \\frac{k u_{2}^{2}}{2} - u_{1} + u_{2}$"
      ],
      "text/plain": [
       "                     2          \n",
       "             2   k⋅u₂           \n",
       "-F₁⋅u₁ + k⋅u₁  - ───── - u₁ + u₂\n",
       "                   2            "
      ]
     },
     "execution_count": 13,
     "metadata": {},
     "output_type": "execute_result"
    }
   ],
   "source": [
    "PLM = PL.subs(l, k*(u1-u2)).expand()\n",
    "PLM"
   ]
  },
  {
   "cell_type": "code",
   "execution_count": 14,
   "id": "d1089ff8",
   "metadata": {},
   "outputs": [],
   "source": [
    "DPM1 = sympy.diff(PLM, u1).expand()\n",
    "DPM2 = sympy.diff(PLM, u2).expand()"
   ]
  },
  {
   "cell_type": "code",
   "execution_count": 15,
   "id": "1b6307ff",
   "metadata": {},
   "outputs": [
    {
     "data": {
      "text/latex": [
       "$\\displaystyle - F_{1} + 2 k u_{1} - 1$"
      ],
      "text/plain": [
       "-F₁ + 2⋅k⋅u₁ - 1"
      ]
     },
     "execution_count": 15,
     "metadata": {},
     "output_type": "execute_result"
    }
   ],
   "source": [
    "DPM1"
   ]
  },
  {
   "cell_type": "code",
   "execution_count": 16,
   "id": "66eac028",
   "metadata": {},
   "outputs": [
    {
     "data": {
      "text/latex": [
       "$\\displaystyle - k u_{2} + 1$"
      ],
      "text/plain": [
       "-k⋅u₂ + 1"
      ]
     },
     "execution_count": 16,
     "metadata": {},
     "output_type": "execute_result"
    }
   ],
   "source": [
    "DPM2"
   ]
  },
  {
   "cell_type": "code",
   "execution_count": 17,
   "id": "611a0d4e",
   "metadata": {},
   "outputs": [
    {
     "data": {
      "text/latex": [
       "$\\displaystyle \\left\\{\\left( \\frac{F_{1} + 1}{2 k}, \\  \\frac{1}{k}\\right)\\right\\}$"
      ],
      "text/plain": [
       "⎧⎛F₁ + 1  1⎞⎫\n",
       "⎨⎜──────, ─⎟⎬\n",
       "⎩⎝ 2⋅k    k⎠⎭"
      ]
     },
     "execution_count": 17,
     "metadata": {},
     "output_type": "execute_result"
    }
   ],
   "source": [
    "sympy.linsolve([DPM1, DPM2], [u1,u2])"
   ]
  },
  {
   "cell_type": "code",
   "execution_count": 18,
   "id": "e35d9fdc",
   "metadata": {},
   "outputs": [
    {
     "data": {
      "text/latex": [
       "$\\displaystyle - F_{1} u_{1} + \\frac{\\alpha u_{2}^{2}}{2} - \\frac{\\alpha u_{2}}{k} + \\frac{\\alpha}{2 k^{2}} + k u_{1}^{2} - k u_{1} u_{2} + \\frac{k u_{2}^{2}}{2}$"
      ],
      "text/plain": [
       "                  2                                              2\n",
       "         \\alpha⋅u₂    \\alpha⋅u₂   \\alpha       2             k⋅u₂ \n",
       "-F₁⋅u₁ + ────────── - ───────── + ────── + k⋅u₁  - k⋅u₁⋅u₂ + ─────\n",
       "             2            k           2                        2  \n",
       "                                   2⋅k                            "
      ]
     },
     "execution_count": 18,
     "metadata": {},
     "output_type": "execute_result"
    }
   ],
   "source": [
    "a = sympy.Symbol(r'\\alpha')\n",
    "PP = (P + a*(u2-1/k)**2/2).expand()\n",
    "PP"
   ]
  },
  {
   "cell_type": "code",
   "execution_count": 19,
   "id": "b68ef6ec",
   "metadata": {},
   "outputs": [
    {
     "data": {
      "text/latex": [
       "$\\displaystyle - F_{1} + 2 k u_{1} - k u_{2}$"
      ],
      "text/plain": [
       "-F₁ + 2⋅k⋅u₁ - k⋅u₂"
      ]
     },
     "execution_count": 19,
     "metadata": {},
     "output_type": "execute_result"
    }
   ],
   "source": [
    "DPP1 = sympy.diff(PP,u1).expand()\n",
    "DPP1"
   ]
  },
  {
   "cell_type": "code",
   "execution_count": 20,
   "id": "4011916e",
   "metadata": {},
   "outputs": [
    {
     "data": {
      "text/latex": [
       "$\\displaystyle \\alpha u_{2} - \\frac{\\alpha}{k} - k u_{1} + k u_{2}$"
      ],
      "text/plain": [
       "            \\alpha              \n",
       "\\alpha⋅u₂ - ────── - k⋅u₁ + k⋅u₂\n",
       "              k                 "
      ]
     },
     "execution_count": 20,
     "metadata": {},
     "output_type": "execute_result"
    }
   ],
   "source": [
    "DPP2 = sympy.diff(PP,u2).expand()\n",
    "DPP2"
   ]
  },
  {
   "cell_type": "code",
   "execution_count": 23,
   "id": "c36c8cac",
   "metadata": {},
   "outputs": [
    {
     "data": {
      "text/latex": [
       "$\\displaystyle \\left\\{\\left( \\frac{F_{1} \\alpha + F_{1} k + \\alpha}{2 \\alpha k + k^{2}}, \\  \\frac{F_{1} k + 2 \\alpha}{2 \\alpha k + k^{2}}\\right)\\right\\}$"
      ],
      "text/plain": [
       "⎧⎛F₁⋅\\alpha + F₁⋅k + \\alpha  F₁⋅k + 2⋅\\alpha⎞⎫\n",
       "⎪⎜─────────────────────────, ───────────────⎟⎪\n",
       "⎨⎜                   2                     2⎟⎬\n",
       "⎪⎝     2⋅\\alpha⋅k + k        2⋅\\alpha⋅k + k ⎠⎪\n",
       "⎩                                            ⎭"
      ]
     },
     "execution_count": 23,
     "metadata": {},
     "output_type": "execute_result"
    }
   ],
   "source": [
    "uP = sympy.linsolve([DPP1,DPP2],[u1,u2])\n",
    "uP"
   ]
  },
  {
   "cell_type": "code",
   "execution_count": 26,
   "id": "84411bc0",
   "metadata": {},
   "outputs": [],
   "source": [
    "solutions, = uP\n",
    "solutions\n",
    "U1, U2 = solutions"
   ]
  },
  {
   "cell_type": "code",
   "execution_count": 27,
   "id": "8f3efe09",
   "metadata": {},
   "outputs": [
    {
     "data": {
      "text/latex": [
       "$\\displaystyle \\frac{F_{1} \\alpha + F_{1} k + \\alpha}{2 \\alpha k + k^{2}}$"
      ],
      "text/plain": [
       "F₁⋅\\alpha + F₁⋅k + \\alpha\n",
       "─────────────────────────\n",
       "                   2     \n",
       "     2⋅\\alpha⋅k + k      "
      ]
     },
     "execution_count": 27,
     "metadata": {},
     "output_type": "execute_result"
    }
   ],
   "source": [
    "U1"
   ]
  },
  {
   "cell_type": "code",
   "execution_count": 28,
   "id": "0bbde11e",
   "metadata": {},
   "outputs": [
    {
     "data": {
      "text/latex": [
       "$\\displaystyle \\frac{F_{1} k + 2 \\alpha}{2 \\alpha k + k^{2}}$"
      ],
      "text/plain": [
       "F₁⋅k + 2⋅\\alpha\n",
       "───────────────\n",
       "              2\n",
       "2⋅\\alpha⋅k + k "
      ]
     },
     "execution_count": 28,
     "metadata": {},
     "output_type": "execute_result"
    }
   ],
   "source": [
    "U2"
   ]
  },
  {
   "cell_type": "code",
   "execution_count": 33,
   "id": "97362681",
   "metadata": {},
   "outputs": [
    {
     "data": {
      "text/latex": [
       "$\\displaystyle \\frac{4 \\alpha + 3}{2 \\alpha + 1}$"
      ],
      "text/plain": [
       "4⋅\\alpha + 3\n",
       "────────────\n",
       "2⋅\\alpha + 1"
      ]
     },
     "execution_count": 33,
     "metadata": {},
     "output_type": "execute_result"
    }
   ],
   "source": [
    "U1a = U1.subs([(k,1),(F1,3)])\n",
    "U1a"
   ]
  },
  {
   "cell_type": "code",
   "execution_count": 34,
   "id": "76d447ab",
   "metadata": {},
   "outputs": [
    {
     "data": {
      "text/latex": [
       "$\\displaystyle \\frac{2 \\alpha + 3}{2 \\alpha + 1}$"
      ],
      "text/plain": [
       "2⋅\\alpha + 3\n",
       "────────────\n",
       "2⋅\\alpha + 1"
      ]
     },
     "execution_count": 34,
     "metadata": {},
     "output_type": "execute_result"
    }
   ],
   "source": [
    "U2a = U2.subs([(k,1),(F1,3)])\n",
    "U2a"
   ]
  },
  {
   "cell_type": "code",
   "execution_count": 52,
   "id": "41b542b5",
   "metadata": {},
   "outputs": [],
   "source": [
    "from sympy.utilities.lambdify import lambdify\n",
    "import numpy as np\n",
    "f1 = lambdify(a, U1a,'numpy') # returns a numpy-ready function\n",
    "f2 = lambdify(a, U2a,'numpy')\n",
    "ax = np.array([10, 10**2, 10**4, 10**6, 10**8, 10**10])\n",
    "f1a = f1(ax)\n",
    "f2a = f2(ax)"
   ]
  },
  {
   "cell_type": "code",
   "execution_count": 61,
   "id": "13cf208f",
   "metadata": {},
   "outputs": [
    {
     "data": {
      "text/plain": [
       "array([2.04761905, 2.00497512, 2.00005   , 2.0000005 , 2.        ,\n",
       "       2.        ])"
      ]
     },
     "execution_count": 61,
     "metadata": {},
     "output_type": "execute_result"
    }
   ],
   "source": [
    "f1a"
   ]
  },
  {
   "cell_type": "code",
   "execution_count": 54,
   "id": "37058531",
   "metadata": {},
   "outputs": [
    {
     "data": {
      "text/plain": [
       "array([1.0952381 , 1.00995025, 1.0001    , 1.000001  , 1.00000001,\n",
       "       1.        ])"
      ]
     },
     "execution_count": 54,
     "metadata": {},
     "output_type": "execute_result"
    }
   ],
   "source": [
    "f2a"
   ]
  },
  {
   "cell_type": "code",
   "execution_count": 55,
   "id": "d81fa850",
   "metadata": {},
   "outputs": [
    {
     "data": {
      "text/plain": [
       "array([2.38095238e-02, 2.48756219e-03, 2.49987501e-05, 2.49999875e-07,\n",
       "       2.49999998e-09, 2.50000021e-11])"
      ]
     },
     "execution_count": 55,
     "metadata": {},
     "output_type": "execute_result"
    }
   ],
   "source": [
    "(f1a - 2)/2"
   ]
  },
  {
   "cell_type": "code",
   "execution_count": 56,
   "id": "f391b281",
   "metadata": {},
   "outputs": [
    {
     "data": {
      "text/plain": [
       "array([9.52380952e-02, 9.95024876e-03, 9.99950003e-05, 9.99999500e-07,\n",
       "       9.99999994e-09, 1.00000008e-10])"
      ]
     },
     "execution_count": 56,
     "metadata": {},
     "output_type": "execute_result"
    }
   ],
   "source": [
    "(f2a - 1)/1"
   ]
  },
  {
   "cell_type": "code",
   "execution_count": 62,
   "id": "e2e44ce4",
   "metadata": {},
   "outputs": [
    {
     "data": {
      "text/latex": [
       "$\\displaystyle \\left[\\begin{matrix}2 k & - k\\\\- k & \\alpha + k\\end{matrix}\\right]$"
      ],
      "text/plain": [
       "⎡2⋅k      -k    ⎤\n",
       "⎢               ⎥\n",
       "⎣-k   \\alpha + k⎦"
      ]
     },
     "execution_count": 62,
     "metadata": {},
     "output_type": "execute_result"
    }
   ],
   "source": [
    "K = sympy.Matrix([[2*k, -k], [-k,k+a]])\n",
    "K"
   ]
  },
  {
   "cell_type": "code",
   "execution_count": 63,
   "id": "bad707af",
   "metadata": {},
   "outputs": [],
   "source": [
    "K1 = K.subs([(k,1), (a, 10)])"
   ]
  },
  {
   "cell_type": "code",
   "execution_count": 66,
   "id": "b9ee9c08",
   "metadata": {},
   "outputs": [
    {
     "data": {
      "text/latex": [
       "$\\displaystyle 5.87747804630494$"
      ],
      "text/plain": [
       "5.87747804630494"
      ]
     },
     "execution_count": 66,
     "metadata": {},
     "output_type": "execute_result"
    }
   ],
   "source": [
    "K1.condition_number().evalf()"
   ]
  },
  {
   "cell_type": "code",
   "execution_count": 67,
   "id": "79740059",
   "metadata": {},
   "outputs": [],
   "source": [
    "K8 = K.subs([(k,1), (a, 10**8)])"
   ]
  },
  {
   "cell_type": "code",
   "execution_count": 69,
   "id": "6e660d1f",
   "metadata": {},
   "outputs": [
    {
     "data": {
      "text/latex": [
       "$\\displaystyle 50000000.75$"
      ],
      "text/plain": [
       "50000000.7500000"
      ]
     },
     "execution_count": 69,
     "metadata": {},
     "output_type": "execute_result"
    }
   ],
   "source": [
    "K8.condition_number().evalf()"
   ]
  },
  {
   "cell_type": "code",
   "execution_count": 70,
   "id": "6f9036d6",
   "metadata": {},
   "outputs": [
    {
     "data": {
      "text/latex": [
       "$\\displaystyle 50.7613945169613$"
      ],
      "text/plain": [
       "50.7613945169613"
      ]
     },
     "execution_count": 70,
     "metadata": {},
     "output_type": "execute_result"
    }
   ],
   "source": [
    "K.subs([(k,1), (a, 10**2)]).condition_number().evalf()"
   ]
  },
  {
   "cell_type": "code",
   "execution_count": 71,
   "id": "48140e68",
   "metadata": {},
   "outputs": [
    {
     "data": {
      "text/latex": [
       "$\\displaystyle 5000.75011251438$"
      ],
      "text/plain": [
       "5000.75011251438"
      ]
     },
     "execution_count": 71,
     "metadata": {},
     "output_type": "execute_result"
    }
   ],
   "source": [
    "K.subs([(k,1), (a, 10**4)]).condition_number().evalf()"
   ]
  },
  {
   "cell_type": "code",
   "execution_count": 72,
   "id": "dcdffe4c",
   "metadata": {},
   "outputs": [
    {
     "data": {
      "text/latex": [
       "$\\displaystyle 500000.750001125$"
      ],
      "text/plain": [
       "500000.750001125"
      ]
     },
     "execution_count": 72,
     "metadata": {},
     "output_type": "execute_result"
    }
   ],
   "source": [
    "K.subs([(k,1), (a, 10**6)]).condition_number().evalf()"
   ]
  },
  {
   "cell_type": "code",
   "execution_count": null,
   "id": "f931117d",
   "metadata": {},
   "outputs": [],
   "source": []
  }
 ],
 "metadata": {
  "kernelspec": {
   "display_name": "Python 3 (ipykernel)",
   "language": "python",
   "name": "python3"
  },
  "language_info": {
   "codemirror_mode": {
    "name": "ipython",
    "version": 3
   },
   "file_extension": ".py",
   "mimetype": "text/x-python",
   "name": "python",
   "nbconvert_exporter": "python",
   "pygments_lexer": "ipython3",
   "version": "3.7.6"
  }
 },
 "nbformat": 4,
 "nbformat_minor": 5
}
