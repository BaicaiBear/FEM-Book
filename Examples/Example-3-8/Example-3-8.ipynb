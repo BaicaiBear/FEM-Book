{
 "cells": [
  {
   "cell_type": "code",
   "execution_count": 9,
   "id": "4c180cae",
   "metadata": {},
   "outputs": [
    {
     "name": "stdout",
     "output_type": "stream",
     "text": [
      "x = 2 , u = 0.0 , re = 0.0 %\n",
      "x = 4 , u = 2.119162312519754 , re = -0.006497259763096588 %\n",
      "x = 6 , u = 2.670272963815562 , re = 0.631881610764079 %\n"
     ]
    }
   ],
   "source": [
    "import math\n",
    "import numpy as np\n",
    "\n",
    "def uexact(x):\n",
    "    if x >=2 and x<5:\n",
    "        return -x/2 + 9*np.log(x)/2 + 1 - 9*np.log(2)/2\n",
    "    elif x>=5 and x<=6:\n",
    "        return -x/2 + 3*np.log(x) + 1 + 3*np.log(5)/2 - 9*np.log(2)/2\n",
    "\n",
    "x = [2,4,6]\n",
    "uex = np.zeros(3)\n",
    "ufem = [0, 2.1193, 2.6534]\n",
    "for i in range(3):\n",
    "    uex[i] = uexact(x[i])\n",
    "    print(\"x =\",x[i], \", u =\",uex[i], \", re =\",100*(uex[i]-ufem[i])/(uex[i]+1.0e-12),\"%\")\n"
   ]
  },
  {
   "cell_type": "code",
   "execution_count": null,
   "id": "b552c1dd",
   "metadata": {},
   "outputs": [],
   "source": []
  },
  {
   "cell_type": "code",
   "execution_count": null,
   "id": "00437406",
   "metadata": {},
   "outputs": [],
   "source": []
  }
 ],
 "metadata": {
  "kernelspec": {
   "display_name": "Python 3 (ipykernel)",
   "language": "python",
   "name": "python3"
  },
  "language_info": {
   "codemirror_mode": {
    "name": "ipython",
    "version": 3
   },
   "file_extension": ".py",
   "mimetype": "text/x-python",
   "name": "python",
   "nbconvert_exporter": "python",
   "pygments_lexer": "ipython3",
   "version": "3.9.12"
  }
 },
 "nbformat": 4,
 "nbformat_minor": 5
}
